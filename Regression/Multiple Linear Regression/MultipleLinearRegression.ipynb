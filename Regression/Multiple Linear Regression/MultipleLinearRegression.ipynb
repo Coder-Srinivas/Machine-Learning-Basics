{
 "cells": [
  {
   "cell_type": "markdown",
   "metadata": {},
   "source": [
    "# Multiple Linear Regression\n",
    "\n",
    "Multiple Linear Regression is used when the dependent varibale (y) depends on multiple independent variables(x).\n",
    "\n",
    "Equation: \n",
    "\n",
    "y = m1x1 + m2x2 + m3x3 + ... + mnxn + c\n",
    "\n",
    "When encoding categorical data into dummy variables, there is no need to take all the dummy variables, as the constant can compensate for that dummy variable. Generally when there are n dummy variables, we take n-1 dummy variables into the equation as the last dummy variable can be found out using the others.\n",
    "Example: \n",
    "For the dummy variables D1 and D2, D2 = 1-D1, which means that if D1 value is 0, then D2 value is one.\n",
    "For the general perspective Dn = 1 - max(D1, D2, D3, ... , Dn-1)\n",
    "\n",
    "P-Value: P-value indicates whether to accept or reject the null hypothesis, by specifying the significane level, we can tell with a level of confidence whether to accept or reject the null hypothesis.\n",
    "\n",
    "It is advised to take limited independent variables to predict the dependent variable. Generally the more the independent variables, the more complex the model becomes and more chances for the model to give out wrong predictions.\n",
    "\n",
    "There are five ways to pick a model: \n",
    "1) All in(Using all independent variables)\n",
    "2) Backward Elimination\n",
    "3) Forward Selection\n",
    "4) Bidirectional Elimination\n",
    "5) Score Comparision(Making all possible models and choosing the best one, there can be 2^N-1 total combination for N independent variables)\n",
    "\n",
    "There are three ways to eliminate unnecessary independent variables:\n",
    "1) Backward Elimination:\n",
    "    1) Select a significance level for the model\n",
    "    2) Fit the model with all possible independent variables\n",
    "    3) Consider the variable with the highest P-value, if P > Significane Level, go to Step 4, else Finish\n",
    "    4) Remove the predictor\n",
    "    5) Fit the model without the variable\n",
    "    \n",
    "2) Forward Selection:\n",
    "    1) Select a significance level for the model\n",
    "    2) Fit all simple regression models Select the one with the lowest P-value\n",
    "    3) Keep this variable and fit all models with one extra predictor variable\n",
    "    4) Consider the predictor with the lowest P value. If P < Significance Level, go to Step 3, else Finish\n",
    "    5) Keep the previous model\n",
    "\n",
    "3) Bidirectional Elimination:\n",
    "    1) Select a significane level for the entering and staying in the model SEnter and SStay\n",
    "    2) Perform the next step of forward selection (new variable nust have P < SEnter)\n",
    "    3) Perform all steps of backward elimination (old variale must have P < SStay)\n",
    "    4) If no new variables can enter and no old variable can leave, Finish\n",
    "\n",
    "There is no need to apply feature scaling in multiple linear regression as the coefficients of x variables compensate to put each variable on the same scale."
   ]
  },
  {
   "cell_type": "markdown",
   "metadata": {},
   "source": [
    "## Importing the libraries"
   ]
  },
  {
   "cell_type": "code",
   "execution_count": null,
   "metadata": {},
   "outputs": [],
   "source": [
    "import pandas as pd\n",
    "import numpy as np\n",
    "import matplotlib.pyplot as plot"
   ]
  },
  {
   "cell_type": "markdown",
   "metadata": {},
   "source": [
    "## Importing the dataset"
   ]
  },
  {
   "cell_type": "code",
   "execution_count": null,
   "metadata": {},
   "outputs": [],
   "source": [
    "dataset = pd.read_csv(\"50_Startups.csv\")\n",
    "X = dataset.iloc[:, :-1].values\n",
    "Y = dataset.iloc[:, -1].values"
   ]
  },
  {
   "cell_type": "markdown",
   "metadata": {},
   "source": [
    "## Encoding Categorical Data"
   ]
  },
  {
   "cell_type": "code",
   "execution_count": null,
   "metadata": {},
   "outputs": [],
   "source": [
    "from sklearn.preprocessing import OneHotEncoder\n",
    "from sklearn.compose import ColumnTransformer\n",
    "\n",
    "ColumnTransformerObj = ColumnTransformer(transformers=[('encoder', OneHotEncoder(),[3])], remainder='passthrough')\n",
    "\n",
    "X = np.array(ColumnTransformerObj.fit_transform(X))\n",
    "print(X)"
   ]
  },
  {
   "cell_type": "markdown",
   "metadata": {},
   "source": [
    "## Splitting the dataset into Training set and Test set"
   ]
  },
  {
   "cell_type": "code",
   "execution_count": null,
   "metadata": {},
   "outputs": [],
   "source": [
    "from sklearn.model_selection import train_test_split\n",
    "\n",
    "X_train, X_test, Y_train, Y_test = train_test_split(X, Y, train_size=0.8, random_state=0)"
   ]
  },
  {
   "cell_type": "markdown",
   "metadata": {},
   "source": [
    "## Traning the Mutiple Regression model based on the Training Data"
   ]
  },
  {
   "cell_type": "code",
   "execution_count": null,
   "metadata": {},
   "outputs": [],
   "source": [
    "from sklearn.linear_model import LinearRegression\n",
    "regressor = LinearRegression()\n",
    "regressor.fit(X_train, Y_train)"
   ]
  },
  {
   "cell_type": "markdown",
   "metadata": {},
   "source": [
    "## Predicting the Test Set results"
   ]
  },
  {
   "cell_type": "code",
   "execution_count": null,
   "metadata": {},
   "outputs": [],
   "source": [
    "Y_predict = regressor.predict(X_test)\n",
    "np.set_printoptions(precision=2)\n",
    "comparision = np.concatenate((Y_predict.reshape(len(Y_predict), 1), Y_test.reshape(len(Y_test), 1)), axis=1)\n",
    "print(comparision)"
   ]
  }
 ],
 "metadata": {
  "interpreter": {
   "hash": "3a7853f465984184c2db926f12cf0514f49bd82ebd08c64e7d47bb74214f72b4"
  },
  "kernelspec": {
   "display_name": "Python 3.9.7 64-bit ('base': conda)",
   "language": "python",
   "name": "python3"
  },
  "language_info": {
   "codemirror_mode": {
    "name": "ipython",
    "version": 3
   },
   "file_extension": ".py",
   "mimetype": "text/x-python",
   "name": "python",
   "nbconvert_exporter": "python",
   "pygments_lexer": "ipython3",
   "version": "3.9.7"
  },
  "orig_nbformat": 4
 },
 "nbformat": 4,
 "nbformat_minor": 2
}
