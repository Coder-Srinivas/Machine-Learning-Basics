{
 "cells": [
  {
   "cell_type": "markdown",
   "metadata": {},
   "source": [
    "# Simple Linear Regression\n",
    "\n",
    "Predicting a continous real value is known as regression. Classification is the used to predict the category or the class to the the given value belongs to.\n",
    "\n",
    "Equation:\n",
    "\n",
    "y = mx + c   \n",
    "c -> y-intercept(the point where the line intercepts the y axis)\n",
    "m -> Slope(Rise/Run)(Represents how much the line will rise up with increase in the x variable)\n",
    "\n",
    "Simple Linear Regression is a trend line which represents the linear relationship between one dependent variable(y) and one independent variable(x). The best fit line is one which intercepts most of the points minizing the error.\n",
    "\n",
    "There are two types of errors:\n",
    "1) Mean Absolute Error \n",
    "2) Mean Squared Error\n",
    "\n",
    "Mean Absolute Error = Summation of |y_actual - y_predict|/n  n -> Total number of values\n",
    "\n",
    "Mean Squared Error = Summation of (y_actual - y_predict)^2/2n \n",
    "\n",
    "Generally Mean Squared Error is preferred as it performs better when minizing the error\n"
   ]
  },
  {
   "cell_type": "markdown",
   "metadata": {},
   "source": [
    "## Importing the libraries"
   ]
  },
  {
   "cell_type": "code",
   "execution_count": null,
   "metadata": {},
   "outputs": [],
   "source": [
    "import pandas as pd\n",
    "import numpy as np\n",
    "import matplotlib.pyplot as plot"
   ]
  },
  {
   "cell_type": "markdown",
   "metadata": {},
   "source": [
    "## Importing the dataset"
   ]
  },
  {
   "cell_type": "code",
   "execution_count": null,
   "metadata": {},
   "outputs": [],
   "source": [
    "dataset = pd.read_csv(\"Salary_Data.csv\")\n",
    "X = dataset.iloc[:, :-1].values\n",
    "Y = dataset.iloc[:, -1].values"
   ]
  },
  {
   "cell_type": "markdown",
   "metadata": {},
   "source": [
    "## Splitting the dataset into Training set and Test set"
   ]
  },
  {
   "cell_type": "code",
   "execution_count": null,
   "metadata": {},
   "outputs": [],
   "source": [
    "from sklearn.model_selection import train_test_split\n",
    "\n",
    "X_train, X_test, Y_train, Y_test = train_test_split(X, Y, train_size=0.8, random_state=1)"
   ]
  },
  {
   "cell_type": "markdown",
   "metadata": {},
   "source": [
    "## Training the Simple Linear Regression Model on the Training Set"
   ]
  },
  {
   "cell_type": "code",
   "execution_count": null,
   "metadata": {},
   "outputs": [],
   "source": [
    "from sklearn.linear_model import LinearRegression\n",
    "regressor = LinearRegression()\n",
    "regressor.fit(X_train, Y_train)"
   ]
  },
  {
   "cell_type": "markdown",
   "metadata": {},
   "source": [
    "## Predicting the Test Set Results"
   ]
  },
  {
   "cell_type": "code",
   "execution_count": null,
   "metadata": {},
   "outputs": [],
   "source": [
    "Y_predict = regressor.predict(X_test)\n",
    "print(Y_predict)"
   ]
  },
  {
   "cell_type": "markdown",
   "metadata": {},
   "source": [
    "## Visualizing the Training Set Results"
   ]
  },
  {
   "cell_type": "code",
   "execution_count": null,
   "metadata": {},
   "outputs": [],
   "source": [
    "plot.scatter(X_train, Y_train, color='yellow')\n",
    "plot.plot(X_train, regressor.predict(X_train), color='red')\n",
    "plot.title('Experience vs Salary (Training Set)')\n",
    "plot.xlabel('Experience')\n",
    "plot.ylabel('Salary')\n",
    "plot.show()"
   ]
  },
  {
   "cell_type": "markdown",
   "metadata": {},
   "source": [
    "## Visualizaing the Test Set Results"
   ]
  },
  {
   "cell_type": "code",
   "execution_count": null,
   "metadata": {},
   "outputs": [],
   "source": [
    "plot.scatter(X_test, Y_test, color='yellow')\n",
    " ## Can be either training set or test set as the line plotted is calculated using an equation\n",
    "plot.plot(X_train, regressor.predict(X_train), color='red')\n",
    "plot.title('Experience vs Salary (Test Set)')\n",
    "plot.xlabel('Experience')\n",
    "plot.ylabel('Salary')\n",
    "plot.show()"
   ]
  }
 ],
 "metadata": {
  "interpreter": {
   "hash": "3a7853f465984184c2db926f12cf0514f49bd82ebd08c64e7d47bb74214f72b4"
  },
  "kernelspec": {
   "display_name": "Python 3.9.7 64-bit ('base': conda)",
   "language": "python",
   "name": "python3"
  },
  "language_info": {
   "name": "python",
   "version": "3.9.7"
  },
  "orig_nbformat": 4
 },
 "nbformat": 4,
 "nbformat_minor": 2
}
