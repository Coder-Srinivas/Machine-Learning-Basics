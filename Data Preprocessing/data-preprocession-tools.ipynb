{
 "cells": [
  {
   "cell_type": "markdown",
   "metadata": {},
   "source": [
    "# Data Preprocessing Tools"
   ]
  },
  {
   "cell_type": "markdown",
   "metadata": {},
   "source": [
    "## Importing the data"
   ]
  },
  {
   "cell_type": "code",
   "execution_count": 1,
   "metadata": {},
   "outputs": [],
   "source": [
    "import numpy as np # Numpy is used to perform operations and manipulate arrays\n",
    "import matplotlib.pyplot as plt # Matplotlib is used to plot graphs and various visual charts\n",
    "import pandas as pd # Pandas is used as a data preprocessor, used for importing datasets such as csv files"
   ]
  },
  {
   "cell_type": "markdown",
   "metadata": {},
   "source": [
    "## Importing the dataset"
   ]
  },
  {
   "cell_type": "code",
   "execution_count": 4,
   "metadata": {},
   "outputs": [
    {
     "name": "stdout",
     "output_type": "stream",
     "text": [
      "[['France' 44.0 72000.0]\n",
      " ['Spain' 27.0 48000.0]\n",
      " ['Germany' 30.0 54000.0]\n",
      " ['Spain' 38.0 61000.0]\n",
      " ['Germany' 40.0 nan]\n",
      " ['France' 35.0 58000.0]\n",
      " ['Spain' nan 52000.0]\n",
      " ['France' 48.0 79000.0]\n",
      " ['Germany' 50.0 83000.0]\n",
      " ['France' 37.0 67000.0]]\n",
      "['No' 'Yes' 'No' 'No' 'Yes' 'Yes' 'No' 'Yes' 'No' 'Yes']\n"
     ]
    }
   ],
   "source": [
    "dataset = pd.read_csv('Data.csv') # Reads the data from the csv file and creates a dataframe which we can manipulate\n",
    "'''\n",
    "X is the independent variable, which is used to \n",
    "predict the value of the independent variable. \n",
    "Here the dependent variables are country, age and salary.\n",
    "'''\n",
    "X = dataset.iloc[:, :-1].values # Selecting the country, age and salary columns\n",
    "# iloc is used to locate the particular row and column. \n",
    "# First parameter is the row and 2nd parameter is the column\n",
    "'''\n",
    "Y is the dependent variable, which is predicted\n",
    "based on the value of X. Here the independent variable\n",
    "is purchased.\n",
    "'''\n",
    "Y = dataset.iloc[:, -1].values # Selecting the purchased column\n",
    "\n",
    "print(X)\n",
    "print(Y)"
   ]
  }
 ],
 "metadata": {
  "interpreter": {
   "hash": "0dd272924c7cc597c5889018966c2ccb6c9651b4aec44649117dbf66b8c76eee"
  },
  "kernelspec": {
   "display_name": "Python 3.10.1 64-bit",
   "language": "python",
   "name": "python3"
  },
  "language_info": {
   "codemirror_mode": {
    "name": "ipython",
    "version": 3
   },
   "file_extension": ".py",
   "mimetype": "text/x-python",
   "name": "python",
   "nbconvert_exporter": "python",
   "pygments_lexer": "ipython3",
   "version": "3.9.7"
  },
  "orig_nbformat": 4
 },
 "nbformat": 4,
 "nbformat_minor": 2
}
