{
 "cells": [
  {
   "cell_type": "markdown",
   "metadata": {},
   "source": [
    "# Data Preprocessing Tools"
   ]
  },
  {
   "cell_type": "markdown",
   "metadata": {},
   "source": [
    "## Importing the data"
   ]
  },
  {
   "cell_type": "code",
   "execution_count": null,
   "metadata": {},
   "outputs": [],
   "source": [
    "import numpy as np # Numpy is used to perform operations and manipulate arrays\n",
    "import matplotlib.pyplot as plt # Matplotlib is used to plot graphs and various visual charts\n",
    "import pandas as pd # Pandas is used as a data preprocessor, used for importing datasets such as csv files"
   ]
  },
  {
   "cell_type": "markdown",
   "metadata": {},
   "source": [
    "## Importing the dataset"
   ]
  },
  {
   "cell_type": "code",
   "execution_count": null,
   "metadata": {},
   "outputs": [],
   "source": [
    "dataset = pd.read_csv('Data.csv') # Reads the data from the csv file and creates a dataframe which we can manipulate\n",
    "'''\n",
    "X is the independent variable, which is used to \n",
    "predict the value of the independent variable. Here the dependent variables are the \n",
    "'''\n",
    "X = dataset.iloc[:, :-1].values\n",
    "Y = dataset.iloc[:, -1].values # Y is the dependent variable"
   ]
  }
 ],
 "metadata": {
  "language_info": {
   "name": "python"
  },
  "orig_nbformat": 4
 },
 "nbformat": 4,
 "nbformat_minor": 2
}
