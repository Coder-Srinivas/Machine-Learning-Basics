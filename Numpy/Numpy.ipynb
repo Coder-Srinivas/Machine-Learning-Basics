{
 "cells": [
  {
   "cell_type": "markdown",
   "metadata": {},
   "source": [
    "# Numpy\n",
    "\n",
    "Numpy is the core library for scientific and numerical computing in Python. It provides high-performance multidimensional array objects and tools for working with arrays.\n",
    "\n",
    "It main objective is a multidimensional array. Every dimension is also known as an axis.\n",
    "\n",
    "### Numpy vs Python list\n",
    "\n",
    "1) Numpy is optimized over years and is much faster than python lists\n",
    "2) Numpy has much more functionality than python list and is more convenient to use\n",
    "3) Numpy is optimized to use less memory than python list\n"
   ]
  },
  {
   "cell_type": "markdown",
   "metadata": {},
   "source": [
    "## Importing a numpy array"
   ]
  },
  {
   "cell_type": "code",
   "execution_count": null,
   "metadata": {},
   "outputs": [],
   "source": [
    "import numpy as np"
   ]
  },
  {
   "cell_type": "markdown",
   "metadata": {},
   "source": [
    "## Creating a numpy array\n",
    "\n",
    "Data type of numpy array :\n",
    "\n",
    "<img src=\"https://miro.medium.com/max/1240/1*lbPigku_qn_NeKAHHTGYPg.png\" alt=\"Data types of numpy array\">"
   ]
  },
  {
   "cell_type": "code",
   "execution_count": null,
   "metadata": {},
   "outputs": [],
   "source": [
    "array = np.array([1,2,3])\n",
    "print(array)"
   ]
  },
  {
   "cell_type": "code",
   "execution_count": null,
   "metadata": {},
   "outputs": [],
   "source": [
    "array = np.array([1, 2, 3], dtype=np.float64) ## dtype is the datatype\n",
    "print(array)"
   ]
  },
  {
   "cell_type": "markdown",
   "metadata": {},
   "source": [
    "## Comparing Numpy array with Python list"
   ]
  },
  {
   "cell_type": "code",
   "execution_count": null,
   "metadata": {},
   "outputs": [],
   "source": [
    "import time as t\n",
    "import sys"
   ]
  },
  {
   "cell_type": "markdown",
   "metadata": {},
   "source": [
    "### Memory Consumed by Python List"
   ]
  },
  {
   "cell_type": "code",
   "execution_count": null,
   "metadata": {},
   "outputs": [],
   "source": [
    "pyList = range(1000)\n",
    "print(sys.getsizeof(pyList) * len(pyList))"
   ]
  },
  {
   "cell_type": "markdown",
   "metadata": {},
   "source": [
    "### Memory Consumed by Numpy array"
   ]
  },
  {
   "cell_type": "code",
   "execution_count": null,
   "metadata": {},
   "outputs": [],
   "source": [
    "npArray = np.arange(1000)\n",
    "print(npArray.itemsize * npArray.size)"
   ]
  },
  {
   "cell_type": "markdown",
   "metadata": {},
   "source": [
    "### Time Consumed by Pyton List"
   ]
  },
  {
   "cell_type": "code",
   "execution_count": null,
   "metadata": {},
   "outputs": [],
   "source": [
    "size = 10000"
   ]
  },
  {
   "cell_type": "code",
   "execution_count": null,
   "metadata": {},
   "outputs": [],
   "source": [
    "pyList = range(size)\n",
    "pyList2 = range(size)\n",
    "start = t.time()\n",
    "result = [(x+y) for x,y in zip(pyList, pyList2)]\n",
    "print(\"Time taken by python list: \", (t.time() - start)*1000)"
   ]
  },
  {
   "cell_type": "markdown",
   "metadata": {},
   "source": [
    "### Time Consumed by Numpy Array"
   ]
  },
  {
   "cell_type": "code",
   "execution_count": null,
   "metadata": {},
   "outputs": [],
   "source": [
    "npArray = np.arange(size)\n",
    "npArray2 = np.arange(size)\n",
    "start = t.time()\n",
    "result = npArray + npArray2\n",
    "print(\"Time taken by numpy array: \", (t.time() - start)*1000)"
   ]
  },
  {
   "cell_type": "markdown",
   "metadata": {},
   "source": [
    "## Basics of Numpy"
   ]
  },
  {
   "cell_type": "code",
   "execution_count": null,
   "metadata": {},
   "outputs": [],
   "source": [
    "array = np.array([[1, 2, 2], [3, 4, 5], [6, 7, 8]])"
   ]
  },
  {
   "cell_type": "markdown",
   "metadata": {},
   "source": [
    "### Dimensions of the array\n",
    "\n",
    "It tells us the number of nested arrays. \n",
    "\n",
    "If a jaggered array is given as input, then the jaggered array is of type object and is not treated as an array. In this case, the number of dimensions would not include the jaggered array.\n",
    "\n",
    "Jaggered array -> A nested array with different sizes.\n",
    "\n",
    "Example : \n",
    "\n",
    "[[1, 3], [1, 3, 5], [1, 7, 9]]"
   ]
  },
  {
   "cell_type": "code",
   "execution_count": null,
   "metadata": {},
   "outputs": [],
   "source": [
    "print(array.ndim)"
   ]
  },
  {
   "cell_type": "markdown",
   "metadata": {},
   "source": [
    "### Size of the array\n",
    "\n",
    "Gives the total number of elements present in the array"
   ]
  },
  {
   "cell_type": "code",
   "execution_count": null,
   "metadata": {},
   "outputs": [],
   "source": [
    "print(array.size)"
   ]
  },
  {
   "cell_type": "markdown",
   "metadata": {},
   "source": [
    "### Shape of the array\n",
    "\n",
    "Returns a tuple (x, y) -> where,\n",
    "\n",
    "x = number of rows\n",
    "\n",
    "y = number of columns"
   ]
  },
  {
   "cell_type": "code",
   "execution_count": null,
   "metadata": {},
   "outputs": [],
   "source": [
    "print(array.shape)"
   ]
  },
  {
   "cell_type": "markdown",
   "metadata": {},
   "source": [
    "### Size of each individual element of the array\n",
    "\n",
    "Returns the space occupied by an individual array element"
   ]
  },
  {
   "cell_type": "code",
   "execution_count": null,
   "metadata": {},
   "outputs": [],
   "source": [
    "print(array.itemsize)"
   ]
  },
  {
   "cell_type": "markdown",
   "metadata": {},
   "source": [
    "## Range and arrange function"
   ]
  },
  {
   "cell_type": "markdown",
   "metadata": {},
   "source": [
    "### Zeroes\n",
    "\n",
    "Accepts a tuple (x, y), where x is the number of rows and y is the number of columns and returns a numpy array filled with zeroes."
   ]
  },
  {
   "cell_type": "code",
   "execution_count": null,
   "metadata": {},
   "outputs": [],
   "source": [
    "print(np.zeros((2, 3)))"
   ]
  },
  {
   "cell_type": "markdown",
   "metadata": {},
   "source": [
    "### Ones\n",
    "\n",
    "Accepts a tuple (x, y), where x is the number of rows and y is the number of columns and returns a numpy array filled with ones."
   ]
  },
  {
   "cell_type": "code",
   "execution_count": null,
   "metadata": {},
   "outputs": [],
   "source": [
    "print(np.ones((2, 3)))"
   ]
  },
  {
   "cell_type": "markdown",
   "metadata": {},
   "source": [
    "### Arange\n",
    "\n",
    "Accepts an interger n and returns an numpy array with elements from 0 to n-1 based on the step size"
   ]
  },
  {
   "cell_type": "code",
   "execution_count": null,
   "metadata": {},
   "outputs": [],
   "source": [
    "print(np.arange(10))"
   ]
  },
  {
   "cell_type": "markdown",
   "metadata": {},
   "source": [
    "## String Functions"
   ]
  },
  {
   "cell_type": "markdown",
   "metadata": {},
   "source": [
    "### Concatenation of Strings in numpy\n",
    "\n",
    "np.char.add -> Accepts one dimensional array of equal size, and concats them into one single array"
   ]
  },
  {
   "cell_type": "code",
   "execution_count": null,
   "metadata": {},
   "outputs": [],
   "source": [
    "print(np.char.add([\"Hello \", \"Hey \"], [\"Numpy\" ,\"Man\"]))"
   ]
  },
  {
   "cell_type": "markdown",
   "metadata": {},
   "source": [
    "### Capitalize Strings\n",
    "\n",
    "np.char.capitalize -> Accepts a string and returns the capitalized string \n",
    "\n",
    "(Only the first word is capitalized)"
   ]
  },
  {
   "cell_type": "code",
   "execution_count": null,
   "metadata": {},
   "outputs": [],
   "source": [
    "print(np.char.capitalize(\"hey man.hey\"))"
   ]
  },
  {
   "cell_type": "markdown",
   "metadata": {},
   "source": [
    "### Title Strings\n",
    "\n",
    "np.char.title -> Accepts a string and returns the titled string\n",
    "\n",
    "(All the words are capitalized)"
   ]
  },
  {
   "cell_type": "code",
   "execution_count": null,
   "metadata": {},
   "outputs": [],
   "source": [
    "print(np.char.title(\"hey man\"))"
   ]
  },
  {
   "cell_type": "markdown",
   "metadata": {},
   "source": [
    "### Center\n",
    "\n",
    "np.char.center -> Accepts the string to center, the length of new string and the filling character and returns a centered string padded by the filling character"
   ]
  },
  {
   "cell_type": "code",
   "execution_count": null,
   "metadata": {},
   "outputs": [],
   "source": [
    "print(np.char.center(\"center me\", 20, fillchar=\"-\"))"
   ]
  },
  {
   "cell_type": "markdown",
   "metadata": {},
   "source": [
    "### Lower\n",
    "\n",
    "np.char.lower -> Accepts a string or an array and returns the lower cased version"
   ]
  },
  {
   "cell_type": "code",
   "execution_count": null,
   "metadata": {},
   "outputs": [],
   "source": [
    "print(np.char.lower([\"Hi\"]))"
   ]
  },
  {
   "cell_type": "markdown",
   "metadata": {},
   "source": [
    "### Split\n",
    "\n",
    "np.char.split -> Accepts a string and splits it into words"
   ]
  },
  {
   "cell_type": "code",
   "execution_count": null,
   "metadata": {},
   "outputs": [],
   "source": [
    "print(np.char.split(\"Split this into words\"))"
   ]
  },
  {
   "cell_type": "markdown",
   "metadata": {},
   "source": [
    "### Strip\n",
    "\n",
    "np.char.strip -> Accepts a string and a character and removes the specified characters from the start and end part of the string"
   ]
  },
  {
   "cell_type": "code",
   "execution_count": null,
   "metadata": {},
   "outputs": [],
   "source": [
    "print(np.char.strip([\"Strip\", \"This\", \"Into\", \"Many\", \"Things\"], 's'))"
   ]
  },
  {
   "cell_type": "markdown",
   "metadata": {},
   "source": [
    "### Join\n",
    "\n",
    "np.char.join -> Accepts the joining characters and the strings to be joined and joins them"
   ]
  },
  {
   "cell_type": "code",
   "execution_count": null,
   "metadata": {},
   "outputs": [],
   "source": [
    "print(np.char.join([\"-\", \"@\"], [\"Join\", \"This\"]))"
   ]
  },
  {
   "cell_type": "markdown",
   "metadata": {},
   "source": [
    "### Replace\n",
    "\n",
    "np.char.replace -> Accepts the string, the word to be replaced and the replacing word and returns the replaced string"
   ]
  },
  {
   "cell_type": "code",
   "execution_count": null,
   "metadata": {},
   "outputs": [],
   "source": [
    "print(np.char.replace(\"Replace the word replace\", \"replace\", \"man\"))"
   ]
  },
  {
   "cell_type": "markdown",
   "metadata": {},
   "source": [
    "## Array Manipulation"
   ]
  },
  {
   "cell_type": "markdown",
   "metadata": {},
   "source": [
    "### Reshaping an array\n",
    "\n",
    "array.reshape(a1, a2, ..., an) -> An array can be reshaped under the condition that a1 x a2 x a3 x .... x an = number of elements in the original array"
   ]
  },
  {
   "cell_type": "code",
   "execution_count": null,
   "metadata": {},
   "outputs": [],
   "source": [
    "array = np.array([1, 2, 3, 4, 5, 6, 7, 8])\n",
    "reshapedArray = array.reshape(2, 2, 2)\n",
    "print(reshapedArray)"
   ]
  },
  {
   "cell_type": "markdown",
   "metadata": {},
   "source": [
    "### Flattening an array\n",
    "\n",
    "array.flatten(order = 'C') -> Converts the array into a 1d array\n",
    "\n",
    "order{‘C’, ‘F’, ‘A’, ‘K’}\n",
    "\n",
    "‘C’ means to flatten in row-major (C-style) order. ‘F’ means to flatten in column-major (Fortran- style) order. ‘A’ means to flatten in column-major order if a is Fortran contiguous in memory, row-major order otherwise. ‘K’ means to flatten a in the order the elements occur in memory. The default is ‘C’."
   ]
  },
  {
   "cell_type": "code",
   "execution_count": null,
   "metadata": {},
   "outputs": [],
   "source": [
    "array = np.array([[1,2], [3,4]])\n",
    "print(array.flatten())\n",
    "print(array.flatten(\"F\"))"
   ]
  },
  {
   "cell_type": "markdown",
   "metadata": {},
   "source": [
    "### Transpose\n",
    "\n",
    "np.transpose(matrix) -> Interchanges the rows with columns"
   ]
  },
  {
   "cell_type": "code",
   "execution_count": null,
   "metadata": {},
   "outputs": [],
   "source": [
    "array = np.array([[1, 2, 3], [4, 5, 6]])\n",
    "print(np.transpose(array))"
   ]
  },
  {
   "cell_type": "markdown",
   "metadata": {},
   "source": [
    "### Rollaxis\n",
    "\n",
    "np.rollaxis(array, axis, start=0) -> Changes the position of the axis mentioned to the start defined in the function and roll the other axis respectively in order to accomodate."
   ]
  },
  {
   "cell_type": "code",
   "execution_count": null,
   "metadata": {},
   "outputs": [],
   "source": [
    "array = np.ones((1, 2, 3)) # x -> 1, y -> 2, z -> 3\n",
    "print(array.shape)\n",
    "array = np.rollaxis(array, 2, 0) # x -> 3, y-> 1, z -> 2\n",
    "print(array.shape)"
   ]
  },
  {
   "cell_type": "markdown",
   "metadata": {},
   "source": [
    "### Swapaxes\n",
    "\n",
    "np.swapaxes(array, axis1, axis2) -> Swaps the position of the axis"
   ]
  },
  {
   "cell_type": "code",
   "execution_count": null,
   "metadata": {},
   "outputs": [],
   "source": [
    "array = np.ones((1, 2, 3)) # x -> 1, y -> 2, z -> 3\n",
    "print(array.shape)\n",
    "array = np.swapaxes(array, 2, 0) # x -> 3, y-> 2, z -> 1\n",
    "print(array.shape)"
   ]
  },
  {
   "cell_type": "markdown",
   "metadata": {},
   "source": [
    "## Numpy Arithmetic Operations"
   ]
  },
  {
   "cell_type": "markdown",
   "metadata": {},
   "source": [
    "### Add\n",
    "\n",
    "np.add(array1, array2) -> Adds both the arrays and returns the result. The columns should be the same in both the arrays and the number of rows can be either equal or one."
   ]
  },
  {
   "cell_type": "code",
   "execution_count": null,
   "metadata": {},
   "outputs": [],
   "source": [
    "array1 = np.arange(12).reshape(4, 3)\n",
    "array2 = np.array([1, 2, 3])\n",
    "\n",
    "print(np.add(array1, array2))"
   ]
  },
  {
   "cell_type": "markdown",
   "metadata": {},
   "source": [
    "### Subtract\n",
    "\n",
    "np.subtract(array1, array2) -> Subtracts array2 from array1. The columns should be the same in both the arrays and the number of rows can be either equal or one."
   ]
  },
  {
   "cell_type": "code",
   "execution_count": null,
   "metadata": {},
   "outputs": [],
   "source": [
    "array1 = np.arange(12).reshape(4, 3)\n",
    "array2 = np.array([1, 2, 3])\n",
    "\n",
    "print(np.subtract(array1, array2))"
   ]
  },
  {
   "cell_type": "markdown",
   "metadata": {},
   "source": [
    "### Multiply\n",
    "\n",
    "np.multiply(array1, array2) -> Multiplies array1 with array2. "
   ]
  },
  {
   "cell_type": "code",
   "execution_count": null,
   "metadata": {},
   "outputs": [],
   "source": [
    "array1 = np.arange(9).reshape(3, 3)\n",
    "array2 = np.array([1, 2, 3])\n",
    "\n",
    "print(np.multiply(array1, array2))"
   ]
  },
  {
   "cell_type": "markdown",
   "metadata": {},
   "source": [
    "### Divide\n",
    "\n",
    "np.divide(array1, array2) -> Divides array1 with array2. "
   ]
  },
  {
   "cell_type": "code",
   "execution_count": null,
   "metadata": {},
   "outputs": [],
   "source": [
    "array1 = np.arange(9).reshape(3, 3)\n",
    "array2 = np.array([1, 2, 3])\n",
    "\n",
    "print(np.divide(array1, array2))"
   ]
  },
  {
   "cell_type": "markdown",
   "metadata": {},
   "source": [
    "## Slicing"
   ]
  },
  {
   "cell_type": "markdown",
   "metadata": {},
   "source": [
    "### General Method\n",
    "\n",
    "array = array[x:y] -> x represents the start and y represents the end. Elements from index x till index y-1 are selected"
   ]
  },
  {
   "cell_type": "code",
   "execution_count": null,
   "metadata": {},
   "outputs": [],
   "source": [
    "array = np.arange(10)\n",
    "array = array[:5]\n",
    "print(array)"
   ]
  },
  {
   "cell_type": "markdown",
   "metadata": {},
   "source": [
    "### Slice Method\n",
    "\n",
    "slice(start, end, step) -> Elements from start till end-1 indeces are seleceted based on the step size mentioned."
   ]
  },
  {
   "cell_type": "code",
   "execution_count": null,
   "metadata": {},
   "outputs": [],
   "source": [
    "array = np.arange(20)\n",
    "select = slice(5, 15, 3)\n",
    "print(array[select])"
   ]
  },
  {
   "cell_type": "markdown",
   "metadata": {},
   "source": [
    "## Iterating over arrays"
   ]
  },
  {
   "cell_type": "markdown",
   "metadata": {},
   "source": [
    "### Iterating in c-style (C language)\n",
    "\n",
    "Array is iterated row wise. It is the default order."
   ]
  },
  {
   "cell_type": "code",
   "execution_count": null,
   "metadata": {},
   "outputs": [],
   "source": [
    "array = np.arange(20).reshape(4, 5)\n",
    "print(array)\n",
    "\n",
    "for ele in np.nditer(array, order=\"C\"):\n",
    "    print(ele)"
   ]
  },
  {
   "cell_type": "markdown",
   "metadata": {},
   "source": [
    "### Iterating in f-style (Fortan language)\n",
    "\n",
    "Array is iterated column wise"
   ]
  },
  {
   "cell_type": "code",
   "execution_count": null,
   "metadata": {},
   "outputs": [],
   "source": [
    "array = np.arange(20).reshape(4, 5)\n",
    "print(array)\n",
    "\n",
    "for ele in np.nditer(array, order=\"F\"):\n",
    "    print(ele)"
   ]
  },
  {
   "cell_type": "markdown",
   "metadata": {},
   "source": [
    "## Joining arrays"
   ]
  },
  {
   "cell_type": "markdown",
   "metadata": {},
   "source": [
    "np.concatenate((array1, array2, ... arrayn), axis=0) -> Arrays are joined and returned. The default way of joining is row wise(axis = 0).\n",
    "\n",
    "When axis is 0, the arrays are joined vertically\n",
    "\n",
    "When axis is 1, the arrays are joined horizontally"
   ]
  },
  {
   "cell_type": "code",
   "execution_count": null,
   "metadata": {},
   "outputs": [],
   "source": [
    "array1 = np.arange(4).reshape(2, 2)\n",
    "array2 = np.arange(4, 8).reshape(2,2)\n",
    "\n",
    "print(\"Joining vertically\")\n",
    "print(np.concatenate((array1, array2)))\n",
    "print(\"Joining horizontally\")\n",
    "print(np.concatenate((array1, array2), axis=1))"
   ]
  },
  {
   "cell_type": "markdown",
   "metadata": {},
   "source": [
    "## Splitting the array"
   ]
  },
  {
   "cell_type": "code",
   "execution_count": null,
   "metadata": {},
   "outputs": [],
   "source": [
    "array = np.arange(9, 18)\n",
    "\n",
    "print(np.split(array, 3)) # Splits into three different arrays\n",
    "print(np.split(array, [4])) # Splits at the index 4\n",
    "print(np.split(array, [3, 8])) # Splits at the index 3 and 8"
   ]
  },
  {
   "cell_type": "markdown",
   "metadata": {},
   "source": [
    "## Resizing an array\n",
    "\n",
    "np.resize(array, (x, y)) -> Resizes the array into x rows and y columns.\n",
    "\n",
    "The main difference between resize and reshape is that resize does not give any error if the product of x and y does not match the number of elements present in the array"
   ]
  },
  {
   "cell_type": "code",
   "execution_count": null,
   "metadata": {},
   "outputs": [],
   "source": [
    "array = np.arange(1, 7).reshape(3, 2)\n",
    "print(array)\n",
    "resized = np.resize(array, (2, 3))\n",
    "print(resized)\n",
    "resized2 = np.resize(array, (3,4))\n",
    "print(resized2)"
   ]
  }
 ],
 "metadata": {
  "interpreter": {
   "hash": "3a7853f465984184c2db926f12cf0514f49bd82ebd08c64e7d47bb74214f72b4"
  },
  "kernelspec": {
   "display_name": "Python 3.9.7 64-bit ('base': conda)",
   "language": "python",
   "name": "python3"
  },
  "language_info": {
   "codemirror_mode": {
    "name": "ipython",
    "version": 3
   },
   "file_extension": ".py",
   "mimetype": "text/x-python",
   "name": "python",
   "nbconvert_exporter": "python",
   "pygments_lexer": "ipython3",
   "version": "3.9.7"
  },
  "orig_nbformat": 4
 },
 "nbformat": 4,
 "nbformat_minor": 2
}
